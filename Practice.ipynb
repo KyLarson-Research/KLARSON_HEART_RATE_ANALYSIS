{
 "cells": [
  {
   "cell_type": "code",
   "execution_count": 2,
   "metadata": {},
   "outputs": [
    {
     "data": {
      "text/plain": [
       "'1.0.1'"
      ]
     },
     "execution_count": 2,
     "metadata": {},
     "output_type": "execute_result"
    }
   ],
   "source": [
    "import pandas\n",
    "pandas.__version__"
   ]
  },
  {
   "cell_type": "code",
   "execution_count": 10,
   "metadata": {},
   "outputs": [
    {
     "name": "stdout",
     "output_type": "stream",
     "text": [
      "['Start', 'Finish', 'Heart', 'Rate', '(count/min)']\n",
      "['10-Jul-2020', '22:10', '10-Jul-2020', '22:10', '46']\n",
      "['11-Jul-2020', '06:30', '11-Jul-2020', '06:30', '61']\n",
      "['11-Jul-2020', '07:19', '11-Jul-2020', '07:19', '78']\n",
      "['11-Jul-2020', '07:29', '11-Jul-2020', '07:29', '112']\n",
      "['11-Jul-2020', '07:38', '11-Jul-2020', '07:38', '95']\n",
      "['11-Jul-2020', '07:46', '11-Jul-2020', '07:46', '97']\n",
      "['11-Jul-2020', '07:55', '11-Jul-2020', '07:55', '127']\n",
      "['11-Jul-2020', '08:04', '11-Jul-2020', '08:04', '127']\n",
      "['11-Jul-2020', '08:12', '11-Jul-2020', '08:12', '116']\n",
      "['11-Jul-2020', '08:21', '11-Jul-2020', '08:21', '86']\n",
      "['11-Jul-2020', '22:50', '11-Jul-2020', '22:50', '47']\n",
      "['12-Jul-2020', '07:12', '12-Jul-2020', '07:12', '63']\n",
      "['12-Jul-2020', '07:27', '12-Jul-2020', '07:27', '136']\n",
      "['12-Jul-2020', '07:36', '12-Jul-2020', '07:36', '79']\n",
      "['12-Jul-2020', '07:45', '12-Jul-2020', '07:45', '121']\n",
      "['12-Jul-2020', '07:53', '12-Jul-2020', '07:53', '127']\n",
      "['12-Jul-2020', '08:01', '12-Jul-2020', '08:01', '127']\n",
      "['12-Jul-2020', '08:12', '12-Jul-2020', '08:12', '160']\n",
      "['12-Jul-2020', '08:21', '12-Jul-2020', '08:21', '154']\n",
      "['12-Jul-2020', '08:29', '12-Jul-2020', '08:29', '140']\n",
      "['12-Jul-2020', '08:38', '12-Jul-2020', '08:38', '161']\n",
      "['12-Jul-2020', '08:46', '12-Jul-2020', '08:46', '144']\n",
      "['12-Jul-2020', '08:55', '12-Jul-2020', '08:55', '152']\n",
      "['12-Jul-2020', '09:03', '12-Jul-2020', '09:03', '98']\n",
      "['12-Jul-2020', '09:12', '12-Jul-2020', '09:12', '107']\n",
      "['12-Jul-2020', '09:21', '12-Jul-2020', '09:21', '119']\n",
      "['12-Jul-2020', '11:26', '12-Jul-2020', '11:26', '127']\n",
      "['12-Jul-2020', '12:40', '12-Jul-2020', '12:40', '140']\n",
      "['12-Jul-2020', '12:49', '12-Jul-2020', '12:49', '134']\n",
      "['12-Jul-2020', '12:57', '12-Jul-2020', '12:57', '99']\n",
      "['12-Jul-2020', '13:06', '12-Jul-2020', '13:06', '84']\n",
      "['12-Jul-2020', '13:15', '12-Jul-2020', '13:15', '84']\n",
      "['12-Jul-2020', '13:24', '12-Jul-2020', '13:24', '79']\n",
      "['12-Jul-2020', '13:33', '12-Jul-2020', '13:33', '80']\n",
      "['12-Jul-2020', '13:42', '12-Jul-2020', '13:42', '88']\n",
      "['12-Jul-2020', '13:51', '12-Jul-2020', '13:51', '83']\n",
      "['12-Jul-2020', '13:59', '12-Jul-2020', '13:59', '78']\n",
      "['12-Jul-2020', '14:08', '12-Jul-2020', '14:08', '97']\n",
      "['12-Jul-2020', '14:17', '12-Jul-2020', '14:17', '128']\n",
      "['12-Jul-2020', '17:09', '12-Jul-2020', '17:09', '61']\n",
      "['13-Jul-2020', '07:16', '13-Jul-2020', '07:16', '121']\n",
      "['13-Jul-2020', '07:24', '13-Jul-2020', '07:24', '64']\n",
      "['13-Jul-2020', '07:33', '13-Jul-2020', '07:33', '85']\n",
      "['13-Jul-2020', '07:41', '13-Jul-2020', '07:41', '89']\n",
      "['13-Jul-2020', '07:50', '13-Jul-2020', '07:50', '123']\n",
      "['13-Jul-2020', '07:58', '13-Jul-2020', '07:58', '118']\n",
      "['13-Jul-2020', '08:07', '13-Jul-2020', '08:07', '111']\n",
      "['13-Jul-2020', '08:15', '13-Jul-2020', '08:15', '88']\n",
      "['13-Jul-2020', '08:23', '13-Jul-2020', '08:23', '123']\n",
      "['13-Jul-2020', '08:31', '13-Jul-2020', '08:31', '99']\n",
      "['13-Jul-2020', '15:35', '13-Jul-2020', '15:35', '52']\n",
      "['14-Jul-2020', '01:23', '14-Jul-2020', '01:23', '40']\n",
      "['14-Jul-2020', '05:01', '14-Jul-2020', '05:01', '124']\n",
      "['14-Jul-2020', '05:11', '14-Jul-2020', '05:11', '144']\n",
      "['14-Jul-2020', '05:32', '14-Jul-2020', '05:32', '151']\n",
      "['14-Jul-2020', '05:40', '14-Jul-2020', '05:40', '146']\n",
      "['14-Jul-2020', '05:49', '14-Jul-2020', '05:49', '145']\n",
      "['14-Jul-2020', '05:57', '14-Jul-2020', '05:57', '122']\n",
      "['14-Jul-2020', '06:06', '14-Jul-2020', '06:06', '92']\n",
      "['14-Jul-2020', '09:08', '14-Jul-2020', '09:08', '127']\n",
      "['14-Jul-2020', '09:56', '14-Jul-2020', '09:56', '106']\n",
      "['14-Jul-2020', '10:05', '14-Jul-2020', '10:05', '90']\n",
      "['14-Jul-2020', '18:18', '14-Jul-2020', '18:18', '64']\n",
      "['15-Jul-2020', '05:26', '15-Jul-2020', '05:26', '134']\n",
      "['15-Jul-2020', '05:40', '15-Jul-2020', '05:40', '137']\n",
      "['15-Jul-2020', '06:02', '15-Jul-2020', '06:02', '166']\n",
      "['15-Jul-2020', '06:18', '15-Jul-2020', '06:18', '131']\n",
      "['15-Jul-2020', '06:26', '15-Jul-2020', '06:26', '127']\n",
      "['15-Jul-2020', '06:36', '15-Jul-2020', '06:36', '140']\n",
      "['15-Jul-2020', '08:25', '15-Jul-2020', '08:25', '61']\n",
      "['15-Jul-2020', '16:20', '15-Jul-2020', '16:20', '90']\n",
      "['15-Jul-2020', '16:29', '15-Jul-2020', '16:29', '98']\n",
      "['15-Jul-2020', '16:37', '15-Jul-2020', '16:37', '129']\n",
      "['15-Jul-2020', '16:46', '15-Jul-2020', '16:46', '126']\n",
      "['15-Jul-2020', '16:55', '15-Jul-2020', '16:55', '69']\n",
      "['15-Jul-2020', '20:13', '15-Jul-2020', '20:13', '87']\n",
      "['15-Jul-2020', '20:24', '15-Jul-2020', '20:24', '117']\n",
      "['15-Jul-2020', '20:34', '15-Jul-2020', '20:34', '106']\n",
      "['15-Jul-2020', '20:42', '15-Jul-2020', '20:42', '72']\n",
      "['15-Jul-2020', '20:51', '15-Jul-2020', '20:51', '66']\n",
      "['15-Jul-2020', '21:03', '15-Jul-2020', '21:03', '110']\n",
      "['15-Jul-2020', '21:14', '15-Jul-2020', '21:14', '61']\n",
      "['16-Jul-2020', '05:52', '16-Jul-2020', '05:52', '131']\n",
      "['16-Jul-2020', '06:24', '16-Jul-2020', '06:24', '118']\n",
      "['16-Jul-2020', '06:33', '16-Jul-2020', '06:33', '146']\n",
      "['16-Jul-2020', '06:42', '16-Jul-2020', '06:42', '137']\n",
      "['16-Jul-2020', '06:51', '16-Jul-2020', '06:51', '140']\n",
      "['16-Jul-2020', '06:59', '16-Jul-2020', '06:59', '149']\n",
      "['16-Jul-2020', '07:07', '16-Jul-2020', '07:07', '126']\n",
      "['16-Jul-2020', '07:16', '16-Jul-2020', '07:16', '135']\n",
      "['16-Jul-2020', '07:24', '16-Jul-2020', '07:24', '135']\n",
      "['16-Jul-2020', '07:33', '16-Jul-2020', '07:33', '90']\n",
      "['17-Jul-2020', '04:07', '17-Jul-2020', '04:07', '44']\n",
      "['17-Jul-2020', '04:28', '17-Jul-2020', '04:28', '142']\n",
      "['17-Jul-2020', '04:37', '17-Jul-2020', '04:37', '144']\n",
      "['17-Jul-2020', '04:45', '17-Jul-2020', '04:45', '143']\n",
      "['17-Jul-2020', '04:54', '17-Jul-2020', '04:54', '144']\n",
      "['17-Jul-2020', '05:02', '17-Jul-2020', '05:02', '144']\n",
      "['17-Jul-2020', '05:11', '17-Jul-2020', '05:11', '132']\n",
      "['17-Jul-2020', '05:30', '17-Jul-2020', '05:30', '145']\n",
      "['17-Jul-2020', '05:39', '17-Jul-2020', '05:39', '146']\n",
      "['17-Jul-2020', '05:50', '17-Jul-2020', '05:50', '147']\n",
      "['17-Jul-2020', '05:58', '17-Jul-2020', '05:58', '155']\n",
      "['17-Jul-2020', '13:12', '17-Jul-2020', '13:12', '64']\n"
     ]
    }
   ],
   "source": [
    "import csv\n",
    "import math\n",
    "with open(r\"C:\\Users\\admin\\anaconda3\\01 PROJECTS\\02 HEART RATE\\Heart_Rate_July_10.csv\", mode='r') as csv_file:\n",
    "    csv_reader = csv.reader(csv_file, delimiter=',')\n",
    "    line_count =0\n",
    "    for row in csv_reader:\n",
    "        if(math.remainder(line_count, 100)==0):\n",
    "            print(row)\n",
    "        line_count +=1"
   ]
  },
  {
   "cell_type": "code",
   "execution_count": 25,
   "metadata": {},
   "outputs": [
    {
     "name": "stdout",
     "output_type": "stream",
     "text": [
      "[202007102210, 46]\n",
      "[202007110630, 61]\n",
      "[202007110719, 78]\n",
      "[202007110729, 112]\n",
      "[202007110738, 95]\n",
      "[202007110746, 97]\n",
      "[202007110755, 127]\n",
      "[202007110804, 127]\n",
      "[202007110812, 116]\n",
      "[202007110821, 86]\n",
      "[202007112250, 47]\n",
      "[202007120712, 63]\n",
      "[202007120727, 136]\n",
      "[202007120736, 79]\n",
      "[202007120745, 121]\n",
      "[202007120753, 127]\n",
      "[202007120801, 127]\n",
      "[202007120812, 160]\n",
      "[202007120821, 154]\n",
      "[202007120829, 140]\n",
      "[202007120838, 161]\n",
      "[202007120846, 144]\n",
      "[202007120855, 152]\n",
      "[202007120903, 98]\n",
      "[202007120912, 107]\n",
      "[202007120921, 119]\n",
      "[202007121126, 127]\n",
      "[202007121240, 140]\n",
      "[202007121249, 134]\n",
      "[202007121257, 99]\n",
      "[202007121306, 84]\n",
      "[202007121315, 84]\n",
      "[202007121324, 79]\n",
      "[202007121333, 80]\n",
      "[202007121342, 88]\n",
      "[202007121351, 83]\n",
      "[202007121359, 78]\n",
      "[202007121408, 97]\n",
      "[202007121417, 128]\n",
      "[202007121709, 61]\n",
      "[202007130716, 121]\n",
      "[202007130724, 64]\n",
      "[202007130733, 85]\n",
      "[202007130741, 89]\n",
      "[202007130750, 123]\n",
      "[202007130758, 118]\n",
      "[202007130807, 111]\n",
      "[202007130815, 88]\n",
      "[202007130823, 123]\n",
      "[202007130831, 99]\n",
      "[202007131535, 52]\n",
      "[202007140123, 40]\n",
      "[202007140501, 124]\n",
      "[202007140511, 144]\n",
      "[202007140532, 151]\n",
      "[202007140540, 146]\n",
      "[202007140549, 145]\n",
      "[202007140557, 122]\n",
      "[202007140606, 92]\n",
      "[202007140908, 127]\n",
      "[202007140956, 106]\n",
      "[202007141005, 90]\n",
      "[202007141818, 64]\n",
      "[202007150526, 134]\n",
      "[202007150540, 137]\n",
      "[202007150602, 166]\n",
      "[202007150618, 131]\n",
      "[202007150626, 127]\n",
      "[202007150636, 140]\n",
      "[202007150825, 61]\n",
      "[202007151620, 90]\n",
      "[202007151629, 98]\n",
      "[202007151637, 129]\n",
      "[202007151646, 126]\n",
      "[202007151655, 69]\n",
      "[202007152013, 87]\n",
      "[202007152024, 117]\n",
      "[202007152034, 106]\n",
      "[202007152042, 72]\n",
      "[202007152051, 66]\n",
      "[202007152103, 110]\n",
      "[202007152114, 61]\n",
      "[202007160552, 131]\n",
      "[202007160624, 118]\n",
      "[202007160633, 146]\n",
      "[202007160642, 137]\n",
      "[202007160651, 140]\n",
      "[202007160659, 149]\n",
      "[202007160707, 126]\n",
      "[202007160716, 135]\n",
      "[202007160724, 135]\n",
      "[202007160733, 90]\n",
      "[202007170407, 44]\n",
      "[202007170428, 142]\n",
      "[202007170437, 144]\n",
      "[202007170445, 143]\n",
      "[202007170454, 144]\n",
      "[202007170502, 144]\n",
      "[202007170511, 132]\n",
      "[202007170530, 145]\n",
      "[202007170539, 146]\n",
      "[202007170550, 147]\n",
      "[202007170558, 155]\n",
      "[202007171312, 64]\n"
     ]
    }
   ],
   "source": [
    "import csv\n",
    "import math\n",
    "import pandas\n",
    "\n",
    "with open(r\"C:\\Users\\admin\\anaconda3\\01 PROJECTS\\02 HEART RATE\\Heart_Rate_July_10_timerate2.csv\", mode='r') as csv_file:\n",
    "    csv_reader = csv.reader(csv_file, delimiter=',')\n",
    "    line_count =0\n",
    "    buffer1 = 0;\n",
    "    buffer2 = 0;\n",
    " \n",
    "    for row in csv_reader:\n",
    "        if(math.remainder(line_count, 100)==0 and line_count!=0):\n",
    "            print([int(row[0]), int(row[1])])\n",
    "        line_count +=1\n",
    "        \n",
    "        \n",
    "    "
   ]
  },
  {
   "cell_type": "code",
   "execution_count": 10,
   "metadata": {},
   "outputs": [
    {
     "data": {
      "text/plain": [
       "str"
      ]
     },
     "execution_count": 10,
     "metadata": {},
     "output_type": "execute_result"
    }
   ],
   "source": [
    "type('142')"
   ]
  },
  {
   "cell_type": "code",
   "execution_count": 11,
   "metadata": {},
   "outputs": [
    {
     "data": {
      "text/plain": [
       "list"
      ]
     },
     "execution_count": 11,
     "metadata": {},
     "output_type": "execute_result"
    }
   ],
   "source": [
    "type([1,2])"
   ]
  },
  {
   "cell_type": "code",
   "execution_count": 14,
   "metadata": {},
   "outputs": [
    {
     "data": {
      "text/plain": [
       "3"
      ]
     },
     "execution_count": 14,
     "metadata": {},
     "output_type": "execute_result"
    }
   ],
   "source": [
    "a = [1,2,3]\n",
    "a[2]"
   ]
  },
  {
   "cell_type": "code",
   "execution_count": 15,
   "metadata": {},
   "outputs": [
    {
     "data": {
      "text/plain": [
       "['T', 'H']"
      ]
     },
     "execution_count": 15,
     "metadata": {},
     "output_type": "execute_result"
    }
   ],
   "source": [
    "list('T')"
   ]
  },
  {
   "cell_type": "code",
   "execution_count": 29,
   "metadata": {},
   "outputs": [
    {
     "data": {
      "text/plain": [
       "<matplotlib.axes._subplots.AxesSubplot at 0x28546ff1708>"
      ]
     },
     "execution_count": 29,
     "metadata": {},
     "output_type": "execute_result"
    },
    {
     "data": {
      "image/png": "[encoded data removed]",
      "text/plain": [
       "<Figure size 432x288 with 1 Axes>"
      ]
     },
     "metadata": {
      "needs_background": "light"
     },
     "output_type": "display_data"
    }
   ],
   "source": [
    " import pandas\n",
    "d ={ 'Time' : [2,4,6],\n",
    "'HR' : [56,57,58] }\n",
    "df = pandas.DataFrame(d, columns=['Time','HR'])\n",
    "df.plot(kind='scatter', x='Time', y=\"HR\")"
   ]
  },
  {
   "cell_type": "code",
   "execution_count": 63,
   "metadata": {},
   "outputs": [
    {
     "data": {
      "image/png": "[encoded data removed]",
      "text/plain": [
       "<Figure size 432x288 with 1 Axes>"
      ]
     },
     "metadata": {
      "needs_background": "light"
     },
     "output_type": "display_data"
    }
   ],
   "source": [
    "import csv\n",
    "import math\n",
    "import pandas\n",
    "\n",
    "with open(r\"C:\\Users\\admin\\anaconda3\\01 PROJECTS\\02 HEART RATE\\Heart_Rate_July_10_timerate2.csv\", mode='r') as csv_file:\n",
    "    csv_reader = csv.reader(csv_file, delimiter=',')\n",
    "    line_count =0\n",
    "    buffer1 = 0;\n",
    "    buffer2 = 0;\n",
    "    d ={ 'Time' : [202007160642], 'HR' :[137]}\n",
    "        \n",
    "    df = pandas.DataFrame(d, columns=['Time','HR'])\n",
    "  \n",
    "    for row in csv_reader:\n",
    "        if(line_count>0):\n",
    "            df = df.append({'Time':int(row[0]), 'HR':float(row[1])}, ignore_index=True)\n",
    "        line_count +=1\n",
    "    df.plot(kind='scatter', x='Time', y=\"HR\")"
   ]
  },
  {
   "cell_type": "code",
   "execution_count": null,
   "metadata": {},
   "outputs": [],
   "source": []
  }
 ],
 "metadata": {
  "kernelspec": {
   "display_name": "Python 3",
   "language": "python",
   "name": "python3"
  },
  "language_info": {
   "codemirror_mode": {
    "name": "ipython",
    "version": 3
   },
   "file_extension": ".py",
   "mimetype": "text/x-python",
   "name": "python",
   "nbconvert_exporter": "python",
   "pygments_lexer": "ipython3",
   "version": "3.7.6"
  }
 },
 "nbformat": 4,
 "nbformat_minor": 4
}
